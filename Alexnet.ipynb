{
  "nbformat": 4,
  "nbformat_minor": 0,
  "metadata": {
    "colab": {
      "provenance": []
    },
    "kernelspec": {
      "name": "python3",
      "display_name": "Python 3"
    },
    "language_info": {
      "name": "python"
    },
    "accelerator": "GPU",
    "gpuClass": "standard"
  },
  "cells": [
    {
      "cell_type": "code",
      "execution_count": null,
      "metadata": {
        "id": "aWHRF4qb4pUh"
      },
      "outputs": [],
      "source": [
        "import tensorflow as tf\n",
        "from tensorflow import keras\n",
        "import keras\n",
        "from keras.models import Sequential\n",
        "from keras.layers import Dense, Activation, Dropout, Flatten, Conv2D, MaxPooling2D\n",
        "from tensorflow.keras.layers import BatchNormalization\n",
        "# tf.disable_v2_behavior()"
      ]
    },
    {
      "cell_type": "code",
      "source": [
        "!pip install tflearn "
      ],
      "metadata": {
        "colab": {
          "base_uri": "https://localhost:8080/"
        },
        "id": "xDqhEnExVamf",
        "outputId": "526cf669-9e47-46d5-a9d1-befee262b9a9"
      },
      "execution_count": null,
      "outputs": [
        {
          "output_type": "stream",
          "name": "stdout",
          "text": [
            "Looking in indexes: https://pypi.org/simple, https://us-python.pkg.dev/colab-wheels/public/simple/\n",
            "Requirement already satisfied: tflearn in /usr/local/lib/python3.8/dist-packages (0.5.0)\n",
            "Requirement already satisfied: numpy in /usr/local/lib/python3.8/dist-packages (from tflearn) (1.21.6)\n",
            "Requirement already satisfied: six in /usr/local/lib/python3.8/dist-packages (from tflearn) (1.15.0)\n",
            "Requirement already satisfied: Pillow in /usr/local/lib/python3.8/dist-packages (from tflearn) (7.1.2)\n"
          ]
        }
      ]
    },
    {
      "cell_type": "code",
      "source": [
        "pip install tensorflow-addons==0.16.1"
      ],
      "metadata": {
        "colab": {
          "base_uri": "https://localhost:8080/"
        },
        "id": "-uQeT1BUc64d",
        "outputId": "60af4b40-b5b8-4997-f9b4-be65652fce65"
      },
      "execution_count": null,
      "outputs": [
        {
          "output_type": "stream",
          "name": "stdout",
          "text": [
            "Looking in indexes: https://pypi.org/simple, https://us-python.pkg.dev/colab-wheels/public/simple/\n",
            "Collecting tensorflow-addons==0.16.1\n",
            "  Downloading tensorflow_addons-0.16.1-cp38-cp38-manylinux_2_12_x86_64.manylinux2010_x86_64.whl (1.1 MB)\n",
            "\u001b[2K     \u001b[90m━━━━━━━━━━━━━━━━━━━━━━━━━━━━━━━━━━━━━━━━\u001b[0m \u001b[32m1.1/1.1 MB\u001b[0m \u001b[31m15.8 MB/s\u001b[0m eta \u001b[36m0:00:00\u001b[0m\n",
            "\u001b[?25hRequirement already satisfied: typeguard>=2.7 in /usr/local/lib/python3.8/dist-packages (from tensorflow-addons==0.16.1) (2.7.1)\n",
            "Installing collected packages: tensorflow-addons\n",
            "Successfully installed tensorflow-addons-0.16.1\n"
          ]
        }
      ]
    },
    {
      "cell_type": "code",
      "source": [
        "# Get Data\n",
        "import tflearn.datasets.oxflower17 as oxflower17\n",
        "x, y = oxflower17.load_data(one_hot=True)"
      ],
      "metadata": {
        "id": "jRLR0695Vp73"
      },
      "execution_count": null,
      "outputs": []
    },
    {
      "cell_type": "code",
      "source": [
        "x"
      ],
      "metadata": {
        "colab": {
          "base_uri": "https://localhost:8080/"
        },
        "id": "Y6V2K6bxVxNS",
        "outputId": "756982ba-7bcb-4027-abda-1b4cdae873fc"
      },
      "execution_count": null,
      "outputs": [
        {
          "output_type": "execute_result",
          "data": {
            "text/plain": [
              "array([[[[0.18431373, 0.2509804 , 0.1882353 ],\n",
              "         [0.16078432, 0.22745098, 0.16470589],\n",
              "         [0.11372549, 0.18039216, 0.12156863],\n",
              "         ...,\n",
              "         [0.6509804 , 0.56078434, 0.34901962],\n",
              "         [0.6509804 , 0.5529412 , 0.3647059 ],\n",
              "         [0.5803922 , 0.48235294, 0.30588236]],\n",
              "\n",
              "        [[0.12941177, 0.19607843, 0.12941177],\n",
              "         [0.10196079, 0.16470589, 0.10980392],\n",
              "         [0.06666667, 0.12941177, 0.07843138],\n",
              "         ...,\n",
              "         [0.6156863 , 0.5058824 , 0.31764707],\n",
              "         [0.60784316, 0.5294118 , 0.34117648],\n",
              "         [0.56078434, 0.49411765, 0.30588236]],\n",
              "\n",
              "        [[0.05098039, 0.11764706, 0.0627451 ],\n",
              "         [0.05882353, 0.12156863, 0.07450981],\n",
              "         [0.04313726, 0.10588235, 0.0627451 ],\n",
              "         ...,\n",
              "         [0.57254905, 0.44313726, 0.3019608 ],\n",
              "         [0.5764706 , 0.46666667, 0.30980393],\n",
              "         [0.5686275 , 0.47058824, 0.30588236]],\n",
              "\n",
              "        ...,\n",
              "\n",
              "        [[0.40392157, 0.31764707, 0.24313726],\n",
              "         [0.29803923, 0.21176471, 0.13333334],\n",
              "         [0.21960784, 0.13333334, 0.05882353],\n",
              "         ...,\n",
              "         [0.6392157 , 0.54901963, 0.44313726],\n",
              "         [0.4627451 , 0.39607844, 0.3254902 ],\n",
              "         [0.20784314, 0.14509805, 0.08627451]],\n",
              "\n",
              "        [[0.13333334, 0.11764706, 0.05882353],\n",
              "         [0.12941177, 0.09803922, 0.05098039],\n",
              "         [0.14117648, 0.08627451, 0.03921569],\n",
              "         ...,\n",
              "         [0.4862745 , 0.40392157, 0.3137255 ],\n",
              "         [0.7372549 , 0.6509804 , 0.5686275 ],\n",
              "         [0.45490196, 0.37254903, 0.2901961 ]],\n",
              "\n",
              "        [[0.2509804 , 0.26666668, 0.15686275],\n",
              "         [0.1882353 , 0.16470589, 0.09803922],\n",
              "         [0.2627451 , 0.18039216, 0.14509805],\n",
              "         ...,\n",
              "         [0.21568628, 0.10980392, 0.03529412],\n",
              "         [0.4392157 , 0.34117648, 0.24705882],\n",
              "         [0.4117647 , 0.31764707, 0.22745098]]],\n",
              "\n",
              "\n",
              "       [[[0.        , 0.00784314, 0.        ],\n",
              "         [0.00392157, 0.01176471, 0.        ],\n",
              "         [0.00784314, 0.01568628, 0.00392157],\n",
              "         ...,\n",
              "         [0.01960784, 0.15294118, 0.02745098],\n",
              "         [0.02745098, 0.12941177, 0.02352941],\n",
              "         [0.01568628, 0.11764706, 0.01176471]],\n",
              "\n",
              "        [[0.        , 0.00784314, 0.        ],\n",
              "         [0.00392157, 0.01176471, 0.        ],\n",
              "         [0.00784314, 0.01568628, 0.00392157],\n",
              "         ...,\n",
              "         [0.00392157, 0.13333334, 0.01568628],\n",
              "         [0.01176471, 0.11372549, 0.00784314],\n",
              "         [0.00392157, 0.10588235, 0.        ]],\n",
              "\n",
              "        [[0.        , 0.00784314, 0.        ],\n",
              "         [0.00392157, 0.01176471, 0.        ],\n",
              "         [0.00784314, 0.01568628, 0.00392157],\n",
              "         ...,\n",
              "         [0.        , 0.11764706, 0.00784314],\n",
              "         [0.00392157, 0.10588235, 0.        ],\n",
              "         [0.        , 0.10196079, 0.        ]],\n",
              "\n",
              "        ...,\n",
              "\n",
              "        [[0.        , 0.07450981, 0.02745098],\n",
              "         [0.        , 0.07843138, 0.03137255],\n",
              "         [0.00784314, 0.09019608, 0.04313726],\n",
              "         ...,\n",
              "         [0.00392157, 0.09019608, 0.00784314],\n",
              "         [0.        , 0.08235294, 0.        ],\n",
              "         [0.        , 0.08235294, 0.        ]],\n",
              "\n",
              "        [[0.00392157, 0.09019608, 0.03137255],\n",
              "         [0.00784314, 0.09411765, 0.03529412],\n",
              "         [0.01568628, 0.10588235, 0.04705882],\n",
              "         ...,\n",
              "         [0.00392157, 0.09019608, 0.00784314],\n",
              "         [0.        , 0.08235294, 0.        ],\n",
              "         [0.        , 0.08235294, 0.        ]],\n",
              "\n",
              "        [[0.00392157, 0.09411765, 0.03137255],\n",
              "         [0.00784314, 0.09803922, 0.03529412],\n",
              "         [0.01568628, 0.10980392, 0.04705882],\n",
              "         ...,\n",
              "         [0.00392157, 0.09019608, 0.00784314],\n",
              "         [0.        , 0.08235294, 0.        ],\n",
              "         [0.        , 0.08235294, 0.        ]]],\n",
              "\n",
              "\n",
              "       [[[0.09803922, 0.08627451, 0.06666667],\n",
              "         [0.10588235, 0.09411765, 0.07450981],\n",
              "         [0.10196079, 0.09019608, 0.07058824],\n",
              "         ...,\n",
              "         [0.11372549, 0.06666667, 0.05882353],\n",
              "         [0.11372549, 0.07058824, 0.0627451 ],\n",
              "         [0.1254902 , 0.08235294, 0.07450981]],\n",
              "\n",
              "        [[0.09803922, 0.08627451, 0.06666667],\n",
              "         [0.10588235, 0.09411765, 0.07450981],\n",
              "         [0.10196079, 0.09019608, 0.07058824],\n",
              "         ...,\n",
              "         [0.11372549, 0.07058824, 0.0627451 ],\n",
              "         [0.11764706, 0.07450981, 0.06666667],\n",
              "         [0.13333334, 0.09019608, 0.08235294]],\n",
              "\n",
              "        [[0.10196079, 0.08235294, 0.06666667],\n",
              "         [0.10980392, 0.09019608, 0.07450981],\n",
              "         [0.10588235, 0.08627451, 0.07058824],\n",
              "         ...,\n",
              "         [0.11764706, 0.07450981, 0.06666667],\n",
              "         [0.12156863, 0.07843138, 0.07058824],\n",
              "         [0.13725491, 0.09411765, 0.08627451]],\n",
              "\n",
              "        ...,\n",
              "\n",
              "        [[0.5058824 , 0.35686275, 0.24313726],\n",
              "         [0.5019608 , 0.3647059 , 0.23921569],\n",
              "         [0.3019608 , 0.2       , 0.09411765],\n",
              "         ...,\n",
              "         [0.72156864, 0.6509804 , 0.54901963],\n",
              "         [0.60784316, 0.627451  , 0.49803922],\n",
              "         [0.4509804 , 0.5058824 , 0.42745098]],\n",
              "\n",
              "        [[0.47058824, 0.36078432, 0.29411766],\n",
              "         [0.47058824, 0.37254903, 0.2901961 ],\n",
              "         [0.43137255, 0.30588236, 0.18431373],\n",
              "         ...,\n",
              "         [0.6392157 , 0.6117647 , 0.6039216 ],\n",
              "         [0.5176471 , 0.5254902 , 0.5568628 ],\n",
              "         [0.38431373, 0.3529412 , 0.3882353 ]],\n",
              "\n",
              "        [[0.4117647 , 0.31764707, 0.2627451 ],\n",
              "         [0.40784314, 0.32156864, 0.2509804 ],\n",
              "         [0.40784314, 0.28235295, 0.16078432],\n",
              "         ...,\n",
              "         [0.36862746, 0.3529412 , 0.38039216],\n",
              "         [0.28235295, 0.27058825, 0.3529412 ],\n",
              "         [0.3019608 , 0.23137255, 0.2901961 ]]],\n",
              "\n",
              "\n",
              "       ...,\n",
              "\n",
              "\n",
              "       [[[0.5176471 , 0.6509804 , 0.3372549 ],\n",
              "         [0.49019608, 0.63529414, 0.3254902 ],\n",
              "         [0.4627451 , 0.6117647 , 0.30980393],\n",
              "         ...,\n",
              "         [0.26666668, 0.36862746, 0.04705882],\n",
              "         [0.21568628, 0.32156864, 0.03529412],\n",
              "         [0.19607843, 0.3019608 , 0.02352941]],\n",
              "\n",
              "        [[0.5411765 , 0.68235296, 0.37254903],\n",
              "         [0.49803922, 0.6431373 , 0.34117648],\n",
              "         [0.44705883, 0.6       , 0.29803923],\n",
              "         ...,\n",
              "         [0.27450982, 0.3764706 , 0.06666667],\n",
              "         [0.22352941, 0.33333334, 0.05098039],\n",
              "         [0.21568628, 0.32156864, 0.04705882]],\n",
              "\n",
              "        [[0.4862745 , 0.63529414, 0.32941177],\n",
              "         [0.46666667, 0.6156863 , 0.3137255 ],\n",
              "         [0.43137255, 0.5882353 , 0.2901961 ],\n",
              "         ...,\n",
              "         [0.29803923, 0.39607844, 0.10980392],\n",
              "         [0.2509804 , 0.3529412 , 0.08627451],\n",
              "         [0.2509804 , 0.35686275, 0.09411765]],\n",
              "\n",
              "        ...,\n",
              "\n",
              "        [[0.4392157 , 0.6039216 , 0.25882354],\n",
              "         [0.41960785, 0.5921569 , 0.24313726],\n",
              "         [0.37254903, 0.5568628 , 0.20784314],\n",
              "         ...,\n",
              "         [0.5137255 , 0.6431373 , 0.42352942],\n",
              "         [0.52156866, 0.6509804 , 0.43529412],\n",
              "         [0.52156866, 0.6509804 , 0.44313726]],\n",
              "\n",
              "        [[0.43529412, 0.6117647 , 0.24705882],\n",
              "         [0.41960785, 0.6       , 0.23921569],\n",
              "         [0.37254903, 0.5568628 , 0.19607843],\n",
              "         ...,\n",
              "         [0.4745098 , 0.627451  , 0.4       ],\n",
              "         [0.4745098 , 0.6313726 , 0.41568628],\n",
              "         [0.4745098 , 0.6313726 , 0.42352942]],\n",
              "\n",
              "        [[0.42745098, 0.6039216 , 0.23921569],\n",
              "         [0.4117647 , 0.59607846, 0.23137255],\n",
              "         [0.37254903, 0.5568628 , 0.2       ],\n",
              "         ...,\n",
              "         [0.45490196, 0.6       , 0.37254903],\n",
              "         [0.4509804 , 0.6       , 0.3882353 ],\n",
              "         [0.44705883, 0.6       , 0.39215687]]],\n",
              "\n",
              "\n",
              "       [[[0.4509804 , 0.54509807, 0.40784314],\n",
              "         [0.45490196, 0.54901963, 0.40784314],\n",
              "         [0.4745098 , 0.5764706 , 0.42352942],\n",
              "         ...,\n",
              "         [0.23921569, 0.3647059 , 0.14117648],\n",
              "         [0.23529412, 0.3529412 , 0.14509805],\n",
              "         [0.23529412, 0.3529412 , 0.14901961]],\n",
              "\n",
              "        [[0.3529412 , 0.44313726, 0.3137255 ],\n",
              "         [0.33333334, 0.42745098, 0.2901961 ],\n",
              "         [0.36078432, 0.45882353, 0.30980393],\n",
              "         ...,\n",
              "         [0.28235295, 0.40392157, 0.18039216],\n",
              "         [0.2627451 , 0.38431373, 0.1764706 ],\n",
              "         [0.2627451 , 0.38039216, 0.1764706 ]],\n",
              "\n",
              "        [[0.28235295, 0.36078432, 0.24705882],\n",
              "         [0.25490198, 0.33333334, 0.21568628],\n",
              "         [0.2627451 , 0.3529412 , 0.21960784],\n",
              "         ...,\n",
              "         [0.3137255 , 0.43529412, 0.21568628],\n",
              "         [0.29803923, 0.41568628, 0.21176471],\n",
              "         [0.29803923, 0.41568628, 0.21176471]],\n",
              "\n",
              "        ...,\n",
              "\n",
              "        [[0.11372549, 0.2       , 0.1254902 ],\n",
              "         [0.11372549, 0.2       , 0.12156863],\n",
              "         [0.12156863, 0.21176471, 0.12156863],\n",
              "         ...,\n",
              "         [0.40784314, 0.50980395, 0.4117647 ],\n",
              "         [0.38431373, 0.4862745 , 0.3882353 ],\n",
              "         [0.3647059 , 0.46666667, 0.3647059 ]],\n",
              "\n",
              "        [[0.13725491, 0.21960784, 0.14509805],\n",
              "         [0.14117648, 0.22745098, 0.14509805],\n",
              "         [0.14117648, 0.22745098, 0.14117648],\n",
              "         ...,\n",
              "         [0.37254903, 0.4745098 , 0.3764706 ],\n",
              "         [0.34117648, 0.44313726, 0.34509805],\n",
              "         [0.3137255 , 0.41568628, 0.31764707]],\n",
              "\n",
              "        [[0.16078432, 0.23921569, 0.16862746],\n",
              "         [0.1764706 , 0.25882354, 0.18039216],\n",
              "         [0.18039216, 0.26666668, 0.1764706 ],\n",
              "         ...,\n",
              "         [0.45490196, 0.5568628 , 0.45882353],\n",
              "         [0.41568628, 0.5176471 , 0.41960785],\n",
              "         [0.3882353 , 0.49019608, 0.39215687]]],\n",
              "\n",
              "\n",
              "       [[[0.30588236, 0.23921569, 0.1764706 ],\n",
              "         [0.4627451 , 0.39607844, 0.33333334],\n",
              "         [0.5372549 , 0.47058824, 0.40784314],\n",
              "         ...,\n",
              "         [0.01960784, 0.03529412, 0.01568628],\n",
              "         [0.00784314, 0.01568628, 0.02745098],\n",
              "         [0.01960784, 0.03137255, 0.04705882]],\n",
              "\n",
              "        [[0.27058825, 0.1882353 , 0.13333334],\n",
              "         [0.4117647 , 0.32941177, 0.2784314 ],\n",
              "         [0.5254902 , 0.44313726, 0.39215687],\n",
              "         ...,\n",
              "         [0.02352941, 0.03137255, 0.01568628],\n",
              "         [0.03137255, 0.03137255, 0.05098039],\n",
              "         [0.00784314, 0.00784314, 0.02352941]],\n",
              "\n",
              "        [[0.32156864, 0.21568628, 0.1764706 ],\n",
              "         [0.23921569, 0.13333334, 0.09411765],\n",
              "         [0.32941177, 0.22352941, 0.18039216],\n",
              "         ...,\n",
              "         [0.10588235, 0.09411765, 0.08235294],\n",
              "         [0.14509805, 0.12941177, 0.14117648],\n",
              "         [0.13725491, 0.12156863, 0.13333334]],\n",
              "\n",
              "        ...,\n",
              "\n",
              "        [[0.4627451 , 0.34901962, 0.31764707],\n",
              "         [0.56078434, 0.44313726, 0.41568628],\n",
              "         [0.5176471 , 0.40392157, 0.37254903],\n",
              "         ...,\n",
              "         [0.21176471, 0.13725491, 0.13725491],\n",
              "         [0.27058825, 0.1882353 , 0.19215687],\n",
              "         [0.19607843, 0.10980392, 0.11764706]],\n",
              "\n",
              "        [[0.47058824, 0.36078432, 0.31764707],\n",
              "         [0.5568628 , 0.44705883, 0.40392157],\n",
              "         [0.5294118 , 0.41960785, 0.3764706 ],\n",
              "         ...,\n",
              "         [0.16078432, 0.09019608, 0.09019608],\n",
              "         [0.16470589, 0.09019608, 0.09411765],\n",
              "         [0.19607843, 0.11764706, 0.12941177]],\n",
              "\n",
              "        [[0.47843137, 0.36862746, 0.3254902 ],\n",
              "         [0.50980395, 0.40392157, 0.35686275],\n",
              "         [0.44705883, 0.3372549 , 0.29411766],\n",
              "         ...,\n",
              "         [0.14509805, 0.07450981, 0.07450981],\n",
              "         [0.07843138, 0.00784314, 0.01568628],\n",
              "         [0.21960784, 0.14509805, 0.15686275]]]], dtype=float32)"
            ]
          },
          "metadata": {},
          "execution_count": 31
        }
      ]
    },
    {
      "cell_type": "code",
      "source": [
        "\n",
        "y"
      ],
      "metadata": {
        "colab": {
          "base_uri": "https://localhost:8080/"
        },
        "id": "uJC5Z9vqWZZq",
        "outputId": "f8b35e2f-cad1-42a8-cc35-d5f0f7fab514"
      },
      "execution_count": null,
      "outputs": [
        {
          "output_type": "execute_result",
          "data": {
            "text/plain": [
              "array([[0., 0., 0., ..., 0., 0., 0.],\n",
              "       [0., 0., 0., ..., 0., 0., 0.],\n",
              "       [0., 0., 0., ..., 0., 0., 0.],\n",
              "       ...,\n",
              "       [0., 0., 0., ..., 0., 0., 0.],\n",
              "       [0., 0., 0., ..., 0., 0., 0.],\n",
              "       [0., 1., 0., ..., 0., 0., 0.]])"
            ]
          },
          "metadata": {},
          "execution_count": 32
        }
      ]
    },
    {
      "cell_type": "code",
      "source": [
        "x.shape"
      ],
      "metadata": {
        "colab": {
          "base_uri": "https://localhost:8080/"
        },
        "id": "vwkqlVSxWl-C",
        "outputId": "6a8f8363-cb8c-442f-a445-0367e2b88354"
      },
      "execution_count": null,
      "outputs": [
        {
          "output_type": "execute_result",
          "data": {
            "text/plain": [
              "(1360, 224, 224, 3)"
            ]
          },
          "metadata": {},
          "execution_count": 33
        }
      ]
    },
    {
      "cell_type": "code",
      "source": [
        "y.shape"
      ],
      "metadata": {
        "colab": {
          "base_uri": "https://localhost:8080/"
        },
        "id": "32UIqjxGWpUS",
        "outputId": "fabc380c-6f3e-488e-c484-f4abfab21772"
      },
      "execution_count": null,
      "outputs": [
        {
          "output_type": "execute_result",
          "data": {
            "text/plain": [
              "(1360, 17)"
            ]
          },
          "metadata": {},
          "execution_count": 34
        }
      ]
    },
    {
      "cell_type": "code",
      "source": [
        "# Create a sequential model\n",
        "model = Sequential()\n",
        "\n",
        "# 1st Convolutional Layer\n",
        "model.add(Conv2D(filters=96, input_shape=(224,224,3), kernel_size=(11,11), strides=(4,4), padding='valid'))\n",
        "model.add(Activation('relu'))\n",
        "\n",
        "# Pooling \n",
        "model.add(MaxPooling2D(pool_size=(3,3), strides=(2,2), padding='valid'))\n",
        "# Batch Normalisation before passing it to the next layer\n",
        "model.add(BatchNormalization())\n",
        "\n",
        "# 2nd Convolutional Layer\n",
        "model.add(Conv2D(filters=256, kernel_size=(5,5), strides=(1,1), padding='same'))\n",
        "model.add(Activation('relu'))\n",
        "\n",
        "# Pooling\n",
        "model.add(MaxPooling2D(pool_size=(3,3), strides=(2,2), padding='valid'))\n",
        "# Batch Normalisation\n",
        "model.add(BatchNormalization())\n",
        "\n",
        "\n",
        "\n",
        "# 3rd Convolutional Layer\n",
        "model.add(Conv2D(filters=384, kernel_size=(3,3), strides=(1,1), padding='valid'))\n",
        "model.add(Activation('relu'))\n",
        "# Batch Normalisation\n",
        "model.add(BatchNormalization())\n",
        "\n",
        "# 4th Convolutional Layer\n",
        "model.add(Conv2D(filters=384, kernel_size=(3,3), strides=(1,1), padding='valid'))\n",
        "model.add(Activation('relu'))\n",
        "# Batch Normalisation\n",
        "model.add(BatchNormalization())\n",
        "\n",
        "\n",
        "# 5th Convolutional Layer\n",
        "model.add(Conv2D(filters=256, kernel_size=(3,3), strides=(1,1), padding='valid'))\n",
        "model.add(Activation('relu'))\n",
        "\n",
        "\n",
        "# Pooling\n",
        "model.add(MaxPooling2D(pool_size=(3,3), strides=(2,2), padding='valid'))\n",
        "# Batch Normalisation\n",
        "model.add(BatchNormalization())\n",
        "\n",
        "\n",
        "# Passing it to a dense layer\n",
        "model.add(Flatten())\n",
        "\n",
        "# 1st Dense Layer\n",
        "model.add(Dense(4096, input_shape=(224*224*3,)))\n",
        "model.add(Activation('relu'))\n",
        "# Add Dropout to prevent overfitting\n",
        "model.add(Dropout(0.4))\n",
        "# Batch Normalisation\n",
        "model.add(BatchNormalization())\n",
        "\n",
        "# 2nd Dense Layer\n",
        "model.add(Dense(4096))\n",
        "model.add(Activation('relu'))\n",
        "# Add Dropout\n",
        "model.add(Dropout(0.4))\n",
        "# Batch Normalisation\n",
        "model.add(BatchNormalization())\n",
        "\n",
        "# Output Layer\n",
        "model.add(Dense(17))\n",
        "model.add(Activation('softmax'))\n",
        "\n",
        "model.summary()"
      ],
      "metadata": {
        "colab": {
          "base_uri": "https://localhost:8080/"
        },
        "id": "-d5AsJpdWrok",
        "outputId": "c6c3e2b1-69cd-449d-bdfc-099f9e07c785"
      },
      "execution_count": null,
      "outputs": [
        {
          "output_type": "stream",
          "name": "stdout",
          "text": [
            "Model: \"sequential_3\"\n",
            "_________________________________________________________________\n",
            " Layer (type)                Output Shape              Param #   \n",
            "=================================================================\n",
            " conv2d_15 (Conv2D)          (None, 54, 54, 96)        34944     \n",
            "                                                                 \n",
            " activation_24 (Activation)  (None, 54, 54, 96)        0         \n",
            "                                                                 \n",
            " max_pooling2d_9 (MaxPooling  (None, 26, 26, 96)       0         \n",
            " 2D)                                                             \n",
            "                                                                 \n",
            " batch_normalization_21 (Bat  (None, 26, 26, 96)       384       \n",
            " chNormalization)                                                \n",
            "                                                                 \n",
            " conv2d_16 (Conv2D)          (None, 26, 26, 256)       614656    \n",
            "                                                                 \n",
            " activation_25 (Activation)  (None, 26, 26, 256)       0         \n",
            "                                                                 \n",
            " max_pooling2d_10 (MaxPoolin  (None, 12, 12, 256)      0         \n",
            " g2D)                                                            \n",
            "                                                                 \n",
            " batch_normalization_22 (Bat  (None, 12, 12, 256)      1024      \n",
            " chNormalization)                                                \n",
            "                                                                 \n",
            " conv2d_17 (Conv2D)          (None, 10, 10, 384)       885120    \n",
            "                                                                 \n",
            " activation_26 (Activation)  (None, 10, 10, 384)       0         \n",
            "                                                                 \n",
            " batch_normalization_23 (Bat  (None, 10, 10, 384)      1536      \n",
            " chNormalization)                                                \n",
            "                                                                 \n",
            " conv2d_18 (Conv2D)          (None, 8, 8, 384)         1327488   \n",
            "                                                                 \n",
            " activation_27 (Activation)  (None, 8, 8, 384)         0         \n",
            "                                                                 \n",
            " batch_normalization_24 (Bat  (None, 8, 8, 384)        1536      \n",
            " chNormalization)                                                \n",
            "                                                                 \n",
            " conv2d_19 (Conv2D)          (None, 6, 6, 256)         884992    \n",
            "                                                                 \n",
            " activation_28 (Activation)  (None, 6, 6, 256)         0         \n",
            "                                                                 \n",
            " max_pooling2d_11 (MaxPoolin  (None, 2, 2, 256)        0         \n",
            " g2D)                                                            \n",
            "                                                                 \n",
            " batch_normalization_25 (Bat  (None, 2, 2, 256)        1024      \n",
            " chNormalization)                                                \n",
            "                                                                 \n",
            " flatten_3 (Flatten)         (None, 1024)              0         \n",
            "                                                                 \n",
            " dense_9 (Dense)             (None, 4096)              4198400   \n",
            "                                                                 \n",
            " activation_29 (Activation)  (None, 4096)              0         \n",
            "                                                                 \n",
            " dropout_6 (Dropout)         (None, 4096)              0         \n",
            "                                                                 \n",
            " batch_normalization_26 (Bat  (None, 4096)             16384     \n",
            " chNormalization)                                                \n",
            "                                                                 \n",
            " dense_10 (Dense)            (None, 4096)              16781312  \n",
            "                                                                 \n",
            " activation_30 (Activation)  (None, 4096)              0         \n",
            "                                                                 \n",
            " dropout_7 (Dropout)         (None, 4096)              0         \n",
            "                                                                 \n",
            " batch_normalization_27 (Bat  (None, 4096)             16384     \n",
            " chNormalization)                                                \n",
            "                                                                 \n",
            " dense_11 (Dense)            (None, 17)                69649     \n",
            "                                                                 \n",
            " activation_31 (Activation)  (None, 17)                0         \n",
            "                                                                 \n",
            "=================================================================\n",
            "Total params: 24,834,833\n",
            "Trainable params: 24,815,697\n",
            "Non-trainable params: 19,136\n",
            "_________________________________________________________________\n"
          ]
        }
      ]
    },
    {
      "cell_type": "code",
      "source": [
        "# Compile \n",
        "opt = tf.optimizers.Adam(learning_rate = 0.01)\n",
        "model.compile(loss='categorical_crossentropy', optimizer=opt, metrics=['accuracy'])"
      ],
      "metadata": {
        "colab": {
          "base_uri": "https://localhost:8080/",
          "height": 347
        },
        "id": "MvVOIkt3WutX",
        "outputId": "1cdd7401-d91a-4f5e-fbe7-042d3ef2148b"
      },
      "execution_count": null,
      "outputs": [
        {
          "output_type": "error",
          "ename": "NotImplementedError",
          "evalue": "ignored",
          "traceback": [
            "\u001b[0;31m---------------------------------------------------------------------------\u001b[0m",
            "\u001b[0;31mNotImplementedError\u001b[0m                       Traceback (most recent call last)",
            "\u001b[0;32m<ipython-input-36-4f616a8ab371>\u001b[0m in \u001b[0;36m<module>\u001b[0;34m\u001b[0m\n\u001b[1;32m      1\u001b[0m \u001b[0;31m# Compile\u001b[0m\u001b[0;34m\u001b[0m\u001b[0;34m\u001b[0m\u001b[0;34m\u001b[0m\u001b[0m\n\u001b[1;32m      2\u001b[0m \u001b[0mopt\u001b[0m \u001b[0;34m=\u001b[0m \u001b[0mtf\u001b[0m\u001b[0;34m.\u001b[0m\u001b[0moptimizers\u001b[0m\u001b[0;34m.\u001b[0m\u001b[0mAdam\u001b[0m\u001b[0;34m(\u001b[0m\u001b[0mlearning_rate\u001b[0m \u001b[0;34m=\u001b[0m \u001b[0;36m0.01\u001b[0m\u001b[0;34m)\u001b[0m\u001b[0;34m\u001b[0m\u001b[0;34m\u001b[0m\u001b[0m\n\u001b[0;32m----> 3\u001b[0;31m \u001b[0mmodel\u001b[0m\u001b[0;34m.\u001b[0m\u001b[0mcompile\u001b[0m\u001b[0;34m(\u001b[0m\u001b[0mloss\u001b[0m\u001b[0;34m=\u001b[0m\u001b[0;34m'categorical_crossentropy'\u001b[0m\u001b[0;34m,\u001b[0m \u001b[0moptimizer\u001b[0m\u001b[0;34m=\u001b[0m\u001b[0mopt\u001b[0m\u001b[0;34m,\u001b[0m \u001b[0mmetrics\u001b[0m\u001b[0;34m=\u001b[0m\u001b[0;34m[\u001b[0m\u001b[0;34m'accuracy'\u001b[0m\u001b[0;34m]\u001b[0m\u001b[0;34m)\u001b[0m\u001b[0;34m\u001b[0m\u001b[0;34m\u001b[0m\u001b[0m\n\u001b[0m",
            "\u001b[0;32m/usr/local/lib/python3.8/dist-packages/tensorflow/python/trackable/base.py\u001b[0m in \u001b[0;36m_method_wrapper\u001b[0;34m(self, *args, **kwargs)\u001b[0m\n\u001b[1;32m    203\u001b[0m     \u001b[0mself\u001b[0m\u001b[0;34m.\u001b[0m\u001b[0m_self_setattr_tracking\u001b[0m \u001b[0;34m=\u001b[0m \u001b[0;32mFalse\u001b[0m  \u001b[0;31m# pylint: disable=protected-access\u001b[0m\u001b[0;34m\u001b[0m\u001b[0;34m\u001b[0m\u001b[0m\n\u001b[1;32m    204\u001b[0m     \u001b[0;32mtry\u001b[0m\u001b[0;34m:\u001b[0m\u001b[0;34m\u001b[0m\u001b[0;34m\u001b[0m\u001b[0m\n\u001b[0;32m--> 205\u001b[0;31m       \u001b[0mresult\u001b[0m \u001b[0;34m=\u001b[0m \u001b[0mmethod\u001b[0m\u001b[0;34m(\u001b[0m\u001b[0mself\u001b[0m\u001b[0;34m,\u001b[0m \u001b[0;34m*\u001b[0m\u001b[0margs\u001b[0m\u001b[0;34m,\u001b[0m \u001b[0;34m**\u001b[0m\u001b[0mkwargs\u001b[0m\u001b[0;34m)\u001b[0m\u001b[0;34m\u001b[0m\u001b[0;34m\u001b[0m\u001b[0m\n\u001b[0m\u001b[1;32m    206\u001b[0m     \u001b[0;32mfinally\u001b[0m\u001b[0;34m:\u001b[0m\u001b[0;34m\u001b[0m\u001b[0;34m\u001b[0m\u001b[0m\n\u001b[1;32m    207\u001b[0m       \u001b[0mself\u001b[0m\u001b[0;34m.\u001b[0m\u001b[0m_self_setattr_tracking\u001b[0m \u001b[0;34m=\u001b[0m \u001b[0mprevious_value\u001b[0m  \u001b[0;31m# pylint: disable=protected-access\u001b[0m\u001b[0;34m\u001b[0m\u001b[0;34m\u001b[0m\u001b[0m\n",
            "\u001b[0;32m/usr/local/lib/python3.8/dist-packages/keras/engine/training_v1.py\u001b[0m in \u001b[0;36mcompile\u001b[0;34m(self, optimizer, loss, metrics, loss_weights, sample_weight_mode, weighted_metrics, target_tensors, distribute, **kwargs)\u001b[0m\n\u001b[1;32m    317\u001b[0m                 )\n\u001b[1;32m    318\u001b[0m \u001b[0;34m\u001b[0m\u001b[0m\n\u001b[0;32m--> 319\u001b[0;31m         \u001b[0mself\u001b[0m\u001b[0;34m.\u001b[0m\u001b[0m_set_optimizer\u001b[0m\u001b[0;34m(\u001b[0m\u001b[0moptimizer\u001b[0m\u001b[0;34m)\u001b[0m\u001b[0;34m\u001b[0m\u001b[0;34m\u001b[0m\u001b[0m\n\u001b[0m\u001b[1;32m    320\u001b[0m         is_any_keras_optimizer_v1 = any(\n\u001b[1;32m    321\u001b[0m             (\n",
            "\u001b[0;32m/usr/local/lib/python3.8/dist-packages/keras/engine/training_v1.py\u001b[0m in \u001b[0;36m_set_optimizer\u001b[0;34m(self, optimizer)\u001b[0m\n\u001b[1;32m   1469\u001b[0m             \u001b[0mself\u001b[0m\u001b[0;34m.\u001b[0m\u001b[0moptimizer\u001b[0m \u001b[0;34m=\u001b[0m \u001b[0;34m[\u001b[0m\u001b[0moptimizers\u001b[0m\u001b[0;34m.\u001b[0m\u001b[0mget\u001b[0m\u001b[0;34m(\u001b[0m\u001b[0mopt\u001b[0m\u001b[0;34m)\u001b[0m \u001b[0;32mfor\u001b[0m \u001b[0mopt\u001b[0m \u001b[0;32min\u001b[0m \u001b[0moptimizer\u001b[0m\u001b[0;34m]\u001b[0m\u001b[0;34m\u001b[0m\u001b[0;34m\u001b[0m\u001b[0m\n\u001b[1;32m   1470\u001b[0m         \u001b[0;32melse\u001b[0m\u001b[0;34m:\u001b[0m\u001b[0;34m\u001b[0m\u001b[0;34m\u001b[0m\u001b[0m\n\u001b[0;32m-> 1471\u001b[0;31m             \u001b[0mself\u001b[0m\u001b[0;34m.\u001b[0m\u001b[0moptimizer\u001b[0m \u001b[0;34m=\u001b[0m \u001b[0moptimizers\u001b[0m\u001b[0;34m.\u001b[0m\u001b[0mget\u001b[0m\u001b[0;34m(\u001b[0m\u001b[0moptimizer\u001b[0m\u001b[0;34m)\u001b[0m\u001b[0;34m\u001b[0m\u001b[0;34m\u001b[0m\u001b[0m\n\u001b[0m\u001b[1;32m   1472\u001b[0m \u001b[0;34m\u001b[0m\u001b[0m\n\u001b[1;32m   1473\u001b[0m         if self._dtype_policy.name == \"mixed_float16\" and not isinstance(\n",
            "\u001b[0;32m/usr/local/lib/python3.8/dist-packages/keras/optimizers/__init__.py\u001b[0m in \u001b[0;36mget\u001b[0;34m(identifier, **kwargs)\u001b[0m\n\u001b[1;32m    268\u001b[0m         \u001b[0;32melse\u001b[0m\u001b[0;34m:\u001b[0m\u001b[0;34m\u001b[0m\u001b[0;34m\u001b[0m\u001b[0m\n\u001b[1;32m    269\u001b[0m             \u001b[0;31m# If TF2 is disabled, we convert to the legacy optimizer.\u001b[0m\u001b[0;34m\u001b[0m\u001b[0;34m\u001b[0m\u001b[0;34m\u001b[0m\u001b[0m\n\u001b[0;32m--> 270\u001b[0;31m             \u001b[0;32mreturn\u001b[0m \u001b[0mconvert_to_legacy_optimizer\u001b[0m\u001b[0;34m(\u001b[0m\u001b[0midentifier\u001b[0m\u001b[0;34m)\u001b[0m\u001b[0;34m\u001b[0m\u001b[0;34m\u001b[0m\u001b[0m\n\u001b[0m\u001b[1;32m    271\u001b[0m \u001b[0;34m\u001b[0m\u001b[0m\n\u001b[1;32m    272\u001b[0m     \u001b[0;31m# Wrap legacy TF optimizer instances\u001b[0m\u001b[0;34m\u001b[0m\u001b[0;34m\u001b[0m\u001b[0;34m\u001b[0m\u001b[0m\n",
            "\u001b[0;32m/usr/local/lib/python3.8/dist-packages/keras/optimizers/__init__.py\u001b[0m in \u001b[0;36mconvert_to_legacy_optimizer\u001b[0;34m(optimizer)\u001b[0m\n\u001b[1;32m    211\u001b[0m         )\n\u001b[1;32m    212\u001b[0m     \u001b[0moptimizer_name\u001b[0m \u001b[0;34m=\u001b[0m \u001b[0moptimizer\u001b[0m\u001b[0;34m.\u001b[0m\u001b[0m__class__\u001b[0m\u001b[0;34m.\u001b[0m\u001b[0m__name__\u001b[0m\u001b[0;34m.\u001b[0m\u001b[0mlower\u001b[0m\u001b[0;34m(\u001b[0m\u001b[0;34m)\u001b[0m\u001b[0;34m\u001b[0m\u001b[0;34m\u001b[0m\u001b[0m\n\u001b[0;32m--> 213\u001b[0;31m     \u001b[0mconfig\u001b[0m \u001b[0;34m=\u001b[0m \u001b[0moptimizer\u001b[0m\u001b[0;34m.\u001b[0m\u001b[0mget_config\u001b[0m\u001b[0;34m(\u001b[0m\u001b[0;34m)\u001b[0m\u001b[0;34m\u001b[0m\u001b[0;34m\u001b[0m\u001b[0m\n\u001b[0m\u001b[1;32m    214\u001b[0m     \u001b[0;31m# Remove fields that only exist in experimental optimizer.\u001b[0m\u001b[0;34m\u001b[0m\u001b[0;34m\u001b[0m\u001b[0;34m\u001b[0m\u001b[0m\n\u001b[1;32m    215\u001b[0m     keys_to_remove = [\n",
            "\u001b[0;32m/usr/local/lib/python3.8/dist-packages/keras/optimizers/optimizer_experimental/adam.py\u001b[0m in \u001b[0;36mget_config\u001b[0;34m(self)\u001b[0m\n\u001b[1;32m    205\u001b[0m         config.update(\n\u001b[1;32m    206\u001b[0m             {\n\u001b[0;32m--> 207\u001b[0;31m                 \"learning_rate\": self._serialize_hyperparameter(\n\u001b[0m\u001b[1;32m    208\u001b[0m                     \u001b[0mself\u001b[0m\u001b[0;34m.\u001b[0m\u001b[0m_learning_rate\u001b[0m\u001b[0;34m\u001b[0m\u001b[0;34m\u001b[0m\u001b[0m\n\u001b[1;32m    209\u001b[0m                 ),\n",
            "\u001b[0;32m/usr/local/lib/python3.8/dist-packages/keras/optimizers/optimizer_experimental/optimizer.py\u001b[0m in \u001b[0;36m_serialize_hyperparameter\u001b[0;34m(self, hyperparameter)\u001b[0m\n\u001b[1;32m    716\u001b[0m             \u001b[0;32mreturn\u001b[0m \u001b[0mlearning_rate_schedule\u001b[0m\u001b[0;34m.\u001b[0m\u001b[0mserialize\u001b[0m\u001b[0;34m(\u001b[0m\u001b[0mhyperparameter\u001b[0m\u001b[0;34m)\u001b[0m\u001b[0;34m\u001b[0m\u001b[0;34m\u001b[0m\u001b[0m\n\u001b[1;32m    717\u001b[0m         \u001b[0;32mif\u001b[0m \u001b[0misinstance\u001b[0m\u001b[0;34m(\u001b[0m\u001b[0mhyperparameter\u001b[0m\u001b[0;34m,\u001b[0m \u001b[0mtf\u001b[0m\u001b[0;34m.\u001b[0m\u001b[0mVariable\u001b[0m\u001b[0;34m)\u001b[0m\u001b[0;34m:\u001b[0m\u001b[0;34m\u001b[0m\u001b[0;34m\u001b[0m\u001b[0m\n\u001b[0;32m--> 718\u001b[0;31m             \u001b[0;32mreturn\u001b[0m \u001b[0mhyperparameter\u001b[0m\u001b[0;34m.\u001b[0m\u001b[0mnumpy\u001b[0m\u001b[0;34m(\u001b[0m\u001b[0;34m)\u001b[0m\u001b[0;34m\u001b[0m\u001b[0;34m\u001b[0m\u001b[0m\n\u001b[0m\u001b[1;32m    719\u001b[0m         \u001b[0;32mif\u001b[0m \u001b[0mcallable\u001b[0m\u001b[0;34m(\u001b[0m\u001b[0mhyperparameter\u001b[0m\u001b[0;34m)\u001b[0m\u001b[0;34m:\u001b[0m\u001b[0;34m\u001b[0m\u001b[0;34m\u001b[0m\u001b[0m\n\u001b[1;32m    720\u001b[0m             \u001b[0;32mreturn\u001b[0m \u001b[0mhyperparameter\u001b[0m\u001b[0;34m(\u001b[0m\u001b[0;34m)\u001b[0m\u001b[0;34m\u001b[0m\u001b[0;34m\u001b[0m\u001b[0m\n",
            "\u001b[0;32m/usr/local/lib/python3.8/dist-packages/tensorflow/python/ops/resource_variable_ops.py\u001b[0m in \u001b[0;36mnumpy\u001b[0;34m(self)\u001b[0m\n\u001b[1;32m    638\u001b[0m     \u001b[0;32mif\u001b[0m \u001b[0mcontext\u001b[0m\u001b[0;34m.\u001b[0m\u001b[0mexecuting_eagerly\u001b[0m\u001b[0;34m(\u001b[0m\u001b[0;34m)\u001b[0m\u001b[0;34m:\u001b[0m\u001b[0;34m\u001b[0m\u001b[0;34m\u001b[0m\u001b[0m\n\u001b[1;32m    639\u001b[0m       \u001b[0;32mreturn\u001b[0m \u001b[0mself\u001b[0m\u001b[0;34m.\u001b[0m\u001b[0mread_value\u001b[0m\u001b[0;34m(\u001b[0m\u001b[0;34m)\u001b[0m\u001b[0;34m.\u001b[0m\u001b[0mnumpy\u001b[0m\u001b[0;34m(\u001b[0m\u001b[0;34m)\u001b[0m\u001b[0;34m\u001b[0m\u001b[0;34m\u001b[0m\u001b[0m\n\u001b[0;32m--> 640\u001b[0;31m     raise NotImplementedError(\n\u001b[0m\u001b[1;32m    641\u001b[0m         \"numpy() is only available when eager execution is enabled.\")\n\u001b[1;32m    642\u001b[0m \u001b[0;34m\u001b[0m\u001b[0m\n",
            "\u001b[0;31mNotImplementedError\u001b[0m: numpy() is only available when eager execution is enabled."
          ]
        }
      ]
    },
    {
      "cell_type": "code",
      "source": [
        "# Train\n",
        "model.fit(x, y, batch_size=64, epochs=5, verbose=1,validation_split=0.2, shuffle=True)"
      ],
      "metadata": {
        "colab": {
          "base_uri": "https://localhost:8080/",
          "height": 185
        },
        "id": "iLw7jY9-ZjZu",
        "outputId": "92b3ed57-dc9f-4b36-94ff-9e254d923950"
      },
      "execution_count": null,
      "outputs": [
        {
          "output_type": "error",
          "ename": "NameError",
          "evalue": "ignored",
          "traceback": [
            "\u001b[0;31m---------------------------------------------------------------------------\u001b[0m",
            "\u001b[0;31mNameError\u001b[0m                                 Traceback (most recent call last)",
            "\u001b[0;32m<ipython-input-1-a1174e813061>\u001b[0m in \u001b[0;36m<module>\u001b[0;34m\u001b[0m\n\u001b[1;32m      1\u001b[0m \u001b[0;31m# Train\u001b[0m\u001b[0;34m\u001b[0m\u001b[0;34m\u001b[0m\u001b[0;34m\u001b[0m\u001b[0m\n\u001b[0;32m----> 2\u001b[0;31m \u001b[0mmodel\u001b[0m\u001b[0;34m.\u001b[0m\u001b[0mfit\u001b[0m\u001b[0;34m(\u001b[0m\u001b[0mx\u001b[0m\u001b[0;34m,\u001b[0m \u001b[0my\u001b[0m\u001b[0;34m,\u001b[0m \u001b[0mbatch_size\u001b[0m\u001b[0;34m=\u001b[0m\u001b[0;36m64\u001b[0m\u001b[0;34m,\u001b[0m \u001b[0mepochs\u001b[0m\u001b[0;34m=\u001b[0m\u001b[0;36m5\u001b[0m\u001b[0;34m,\u001b[0m \u001b[0mverbose\u001b[0m\u001b[0;34m=\u001b[0m\u001b[0;36m1\u001b[0m\u001b[0;34m,\u001b[0m\u001b[0mvalidation_split\u001b[0m\u001b[0;34m=\u001b[0m\u001b[0;36m0.2\u001b[0m\u001b[0;34m,\u001b[0m \u001b[0mshuffle\u001b[0m\u001b[0;34m=\u001b[0m\u001b[0;32mTrue\u001b[0m\u001b[0;34m)\u001b[0m\u001b[0;34m\u001b[0m\u001b[0;34m\u001b[0m\u001b[0m\n\u001b[0m",
            "\u001b[0;31mNameError\u001b[0m: name 'model' is not defined"
          ]
        }
      ]
    },
    {
      "cell_type": "code",
      "source": [],
      "metadata": {
        "id": "CG9e4STUaEQ9"
      },
      "execution_count": null,
      "outputs": []
    }
  ]
}