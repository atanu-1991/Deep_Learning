{
  "nbformat": 4,
  "nbformat_minor": 0,
  "metadata": {
    "colab": {
      "provenance": []
    },
    "kernelspec": {
      "name": "python3",
      "display_name": "Python 3"
    },
    "language_info": {
      "name": "python"
    },
    "accelerator": "GPU",
    "gpuClass": "standard"
  },
  "cells": [
    {
      "cell_type": "markdown",
      "source": [
        "![picture](https://drive.google.com/uc?export=view&id=1zse-rhO1LHmUD-n9Nm-i3pV5lJmi00vN)"
      ],
      "metadata": {
        "id": "gP-na1oywD2d"
      }
    },
    {
      "cell_type": "code",
      "source": [
        "!pip install tensorflow==2.9.2"
      ],
      "metadata": {
        "colab": {
          "base_uri": "https://localhost:8080/"
        },
        "id": "hAo8-AGG84O3",
        "outputId": "b749232e-2c58-4325-82f8-e1de44ef2081"
      },
      "execution_count": 1,
      "outputs": [
        {
          "output_type": "stream",
          "name": "stdout",
          "text": [
            "Looking in indexes: https://pypi.org/simple, https://us-python.pkg.dev/colab-wheels/public/simple/\n",
            "Collecting tensorflow==2.9.2\n",
            "  Downloading tensorflow-2.9.2-cp38-cp38-manylinux_2_17_x86_64.manylinux2014_x86_64.whl (511.8 MB)\n",
            "\u001b[2K     \u001b[90m━━━━━━━━━━━━━━━━━━━━━━━━━━━━━━━━━━━━━━━\u001b[0m \u001b[32m511.8/511.8 MB\u001b[0m \u001b[31m3.2 MB/s\u001b[0m eta \u001b[36m0:00:00\u001b[0m\n",
            "\u001b[?25hCollecting keras-preprocessing>=1.1.1\n",
            "  Downloading Keras_Preprocessing-1.1.2-py2.py3-none-any.whl (42 kB)\n",
            "\u001b[2K     \u001b[90m━━━━━━━━━━━━━━━━━━━━━━━━━━━━━━━━━━━━━━━━\u001b[0m \u001b[32m42.6/42.6 KB\u001b[0m \u001b[31m4.6 MB/s\u001b[0m eta \u001b[36m0:00:00\u001b[0m\n",
            "\u001b[?25hRequirement already satisfied: protobuf<3.20,>=3.9.2 in /usr/local/lib/python3.8/dist-packages (from tensorflow==2.9.2) (3.19.6)\n",
            "Collecting keras<2.10.0,>=2.9.0rc0\n",
            "  Downloading keras-2.9.0-py2.py3-none-any.whl (1.6 MB)\n",
            "\u001b[2K     \u001b[90m━━━━━━━━━━━━━━━━━━━━━━━━━━━━━━━━━━━━━━━━\u001b[0m \u001b[32m1.6/1.6 MB\u001b[0m \u001b[31m63.2 MB/s\u001b[0m eta \u001b[36m0:00:00\u001b[0m\n",
            "\u001b[?25hCollecting flatbuffers<2,>=1.12\n",
            "  Downloading flatbuffers-1.12-py2.py3-none-any.whl (15 kB)\n",
            "Requirement already satisfied: grpcio<2.0,>=1.24.3 in /usr/local/lib/python3.8/dist-packages (from tensorflow==2.9.2) (1.51.1)\n",
            "Requirement already satisfied: packaging in /usr/local/lib/python3.8/dist-packages (from tensorflow==2.9.2) (23.0)\n",
            "Requirement already satisfied: typing-extensions>=3.6.6 in /usr/local/lib/python3.8/dist-packages (from tensorflow==2.9.2) (4.4.0)\n",
            "Collecting tensorflow-estimator<2.10.0,>=2.9.0rc0\n",
            "  Downloading tensorflow_estimator-2.9.0-py2.py3-none-any.whl (438 kB)\n",
            "\u001b[2K     \u001b[90m━━━━━━━━━━━━━━━━━━━━━━━━━━━━━━━━━━━━━━\u001b[0m \u001b[32m438.7/438.7 KB\u001b[0m \u001b[31m11.8 MB/s\u001b[0m eta \u001b[36m0:00:00\u001b[0m\n",
            "\u001b[?25hRequirement already satisfied: termcolor>=1.1.0 in /usr/local/lib/python3.8/dist-packages (from tensorflow==2.9.2) (2.2.0)\n",
            "Requirement already satisfied: google-pasta>=0.1.1 in /usr/local/lib/python3.8/dist-packages (from tensorflow==2.9.2) (0.2.0)\n",
            "Requirement already satisfied: libclang>=13.0.0 in /usr/local/lib/python3.8/dist-packages (from tensorflow==2.9.2) (15.0.6.1)\n",
            "Requirement already satisfied: opt-einsum>=2.3.2 in /usr/local/lib/python3.8/dist-packages (from tensorflow==2.9.2) (3.3.0)\n",
            "Requirement already satisfied: setuptools in /usr/local/lib/python3.8/dist-packages (from tensorflow==2.9.2) (57.4.0)\n",
            "Requirement already satisfied: numpy>=1.20 in /usr/local/lib/python3.8/dist-packages (from tensorflow==2.9.2) (1.21.6)\n",
            "Requirement already satisfied: wrapt>=1.11.0 in /usr/local/lib/python3.8/dist-packages (from tensorflow==2.9.2) (1.14.1)\n",
            "Requirement already satisfied: gast<=0.4.0,>=0.2.1 in /usr/local/lib/python3.8/dist-packages (from tensorflow==2.9.2) (0.4.0)\n",
            "Requirement already satisfied: six>=1.12.0 in /usr/local/lib/python3.8/dist-packages (from tensorflow==2.9.2) (1.15.0)\n",
            "Requirement already satisfied: absl-py>=1.0.0 in /usr/local/lib/python3.8/dist-packages (from tensorflow==2.9.2) (1.4.0)\n",
            "Collecting tensorboard<2.10,>=2.9\n",
            "  Downloading tensorboard-2.9.1-py3-none-any.whl (5.8 MB)\n",
            "\u001b[2K     \u001b[90m━━━━━━━━━━━━━━━━━━━━━━━━━━━━━━━━━━━━━━━━\u001b[0m \u001b[32m5.8/5.8 MB\u001b[0m \u001b[31m28.1 MB/s\u001b[0m eta \u001b[36m0:00:00\u001b[0m\n",
            "\u001b[?25hRequirement already satisfied: astunparse>=1.6.0 in /usr/local/lib/python3.8/dist-packages (from tensorflow==2.9.2) (1.6.3)\n",
            "Requirement already satisfied: tensorflow-io-gcs-filesystem>=0.23.1 in /usr/local/lib/python3.8/dist-packages (from tensorflow==2.9.2) (0.30.0)\n",
            "Requirement already satisfied: h5py>=2.9.0 in /usr/local/lib/python3.8/dist-packages (from tensorflow==2.9.2) (3.1.0)\n",
            "Requirement already satisfied: wheel<1.0,>=0.23.0 in /usr/local/lib/python3.8/dist-packages (from astunparse>=1.6.0->tensorflow==2.9.2) (0.38.4)\n",
            "Requirement already satisfied: tensorboard-plugin-wit>=1.6.0 in /usr/local/lib/python3.8/dist-packages (from tensorboard<2.10,>=2.9->tensorflow==2.9.2) (1.8.1)\n",
            "Requirement already satisfied: requests<3,>=2.21.0 in /usr/local/lib/python3.8/dist-packages (from tensorboard<2.10,>=2.9->tensorflow==2.9.2) (2.25.1)\n",
            "Requirement already satisfied: tensorboard-data-server<0.7.0,>=0.6.0 in /usr/local/lib/python3.8/dist-packages (from tensorboard<2.10,>=2.9->tensorflow==2.9.2) (0.6.1)\n",
            "Requirement already satisfied: markdown>=2.6.8 in /usr/local/lib/python3.8/dist-packages (from tensorboard<2.10,>=2.9->tensorflow==2.9.2) (3.4.1)\n",
            "Requirement already satisfied: google-auth<3,>=1.6.3 in /usr/local/lib/python3.8/dist-packages (from tensorboard<2.10,>=2.9->tensorflow==2.9.2) (2.16.0)\n",
            "Requirement already satisfied: google-auth-oauthlib<0.5,>=0.4.1 in /usr/local/lib/python3.8/dist-packages (from tensorboard<2.10,>=2.9->tensorflow==2.9.2) (0.4.6)\n",
            "Requirement already satisfied: werkzeug>=1.0.1 in /usr/local/lib/python3.8/dist-packages (from tensorboard<2.10,>=2.9->tensorflow==2.9.2) (1.0.1)\n",
            "Requirement already satisfied: cachetools<6.0,>=2.0.0 in /usr/local/lib/python3.8/dist-packages (from google-auth<3,>=1.6.3->tensorboard<2.10,>=2.9->tensorflow==2.9.2) (5.3.0)\n",
            "Requirement already satisfied: rsa<5,>=3.1.4 in /usr/local/lib/python3.8/dist-packages (from google-auth<3,>=1.6.3->tensorboard<2.10,>=2.9->tensorflow==2.9.2) (4.9)\n",
            "Requirement already satisfied: pyasn1-modules>=0.2.1 in /usr/local/lib/python3.8/dist-packages (from google-auth<3,>=1.6.3->tensorboard<2.10,>=2.9->tensorflow==2.9.2) (0.2.8)\n",
            "Requirement already satisfied: requests-oauthlib>=0.7.0 in /usr/local/lib/python3.8/dist-packages (from google-auth-oauthlib<0.5,>=0.4.1->tensorboard<2.10,>=2.9->tensorflow==2.9.2) (1.3.1)\n",
            "Requirement already satisfied: importlib-metadata>=4.4 in /usr/local/lib/python3.8/dist-packages (from markdown>=2.6.8->tensorboard<2.10,>=2.9->tensorflow==2.9.2) (6.0.0)\n",
            "Requirement already satisfied: certifi>=2017.4.17 in /usr/local/lib/python3.8/dist-packages (from requests<3,>=2.21.0->tensorboard<2.10,>=2.9->tensorflow==2.9.2) (2022.12.7)\n",
            "Requirement already satisfied: idna<3,>=2.5 in /usr/local/lib/python3.8/dist-packages (from requests<3,>=2.21.0->tensorboard<2.10,>=2.9->tensorflow==2.9.2) (2.10)\n",
            "Requirement already satisfied: chardet<5,>=3.0.2 in /usr/local/lib/python3.8/dist-packages (from requests<3,>=2.21.0->tensorboard<2.10,>=2.9->tensorflow==2.9.2) (4.0.0)\n",
            "Requirement already satisfied: urllib3<1.27,>=1.21.1 in /usr/local/lib/python3.8/dist-packages (from requests<3,>=2.21.0->tensorboard<2.10,>=2.9->tensorflow==2.9.2) (1.24.3)\n",
            "Requirement already satisfied: zipp>=0.5 in /usr/local/lib/python3.8/dist-packages (from importlib-metadata>=4.4->markdown>=2.6.8->tensorboard<2.10,>=2.9->tensorflow==2.9.2) (3.12.1)\n",
            "Requirement already satisfied: pyasn1<0.5.0,>=0.4.6 in /usr/local/lib/python3.8/dist-packages (from pyasn1-modules>=0.2.1->google-auth<3,>=1.6.3->tensorboard<2.10,>=2.9->tensorflow==2.9.2) (0.4.8)\n",
            "Requirement already satisfied: oauthlib>=3.0.0 in /usr/local/lib/python3.8/dist-packages (from requests-oauthlib>=0.7.0->google-auth-oauthlib<0.5,>=0.4.1->tensorboard<2.10,>=2.9->tensorflow==2.9.2) (3.2.2)\n",
            "Installing collected packages: keras, flatbuffers, tensorflow-estimator, keras-preprocessing, tensorboard, tensorflow\n",
            "  Attempting uninstall: keras\n",
            "    Found existing installation: keras 2.11.0\n",
            "    Uninstalling keras-2.11.0:\n",
            "      Successfully uninstalled keras-2.11.0\n",
            "  Attempting uninstall: flatbuffers\n",
            "    Found existing installation: flatbuffers 23.1.21\n",
            "    Uninstalling flatbuffers-23.1.21:\n",
            "      Successfully uninstalled flatbuffers-23.1.21\n",
            "  Attempting uninstall: tensorflow-estimator\n",
            "    Found existing installation: tensorflow-estimator 2.11.0\n",
            "    Uninstalling tensorflow-estimator-2.11.0:\n",
            "      Successfully uninstalled tensorflow-estimator-2.11.0\n",
            "  Attempting uninstall: tensorboard\n",
            "    Found existing installation: tensorboard 2.11.2\n",
            "    Uninstalling tensorboard-2.11.2:\n",
            "      Successfully uninstalled tensorboard-2.11.2\n",
            "  Attempting uninstall: tensorflow\n",
            "    Found existing installation: tensorflow 2.11.0\n",
            "    Uninstalling tensorflow-2.11.0:\n",
            "      Successfully uninstalled tensorflow-2.11.0\n",
            "Successfully installed flatbuffers-1.12 keras-2.9.0 keras-preprocessing-1.1.2 tensorboard-2.9.1 tensorflow-2.9.2 tensorflow-estimator-2.9.0\n"
          ]
        }
      ]
    },
    {
      "cell_type": "code",
      "source": [
        "import tensorflow as tf\n",
        "print(tf.__version__)"
      ],
      "metadata": {
        "colab": {
          "base_uri": "https://localhost:8080/"
        },
        "id": "Ivi4HnrDCIeu",
        "outputId": "d3e394a4-db1e-41c2-9188-8d8a0e13e377"
      },
      "execution_count": 2,
      "outputs": [
        {
          "output_type": "stream",
          "name": "stdout",
          "text": [
            "2.9.2\n"
          ]
        }
      ]
    },
    {
      "cell_type": "code",
      "execution_count": 3,
      "metadata": {
        "id": "aWHRF4qb4pUh"
      },
      "outputs": [],
      "source": [
        "import tensorflow as tf\n",
        "from tensorflow import keras\n",
        "import keras\n",
        "from keras.models import Sequential\n",
        "from keras.layers import Dense, Activation, Dropout, Flatten, Conv2D, MaxPooling2D\n",
        "from tensorflow.keras.layers import BatchNormalization\n",
        "# tf.disable_v2_behavior()"
      ]
    },
    {
      "cell_type": "code",
      "source": [
        "!pip install tflearn "
      ],
      "metadata": {
        "colab": {
          "base_uri": "https://localhost:8080/"
        },
        "id": "xDqhEnExVamf",
        "outputId": "bfbaeeed-9121-4aa3-9875-a4b27a885f72"
      },
      "execution_count": 4,
      "outputs": [
        {
          "output_type": "stream",
          "name": "stdout",
          "text": [
            "Looking in indexes: https://pypi.org/simple, https://us-python.pkg.dev/colab-wheels/public/simple/\n",
            "Collecting tflearn\n",
            "  Downloading tflearn-0.5.0.tar.gz (107 kB)\n",
            "\u001b[2K     \u001b[90m━━━━━━━━━━━━━━━━━━━━━━━━━━━━━━━━━━━━━━━\u001b[0m \u001b[32m107.3/107.3 KB\u001b[0m \u001b[31m6.8 MB/s\u001b[0m eta \u001b[36m0:00:00\u001b[0m\n",
            "\u001b[?25h  Preparing metadata (setup.py) ... \u001b[?25l\u001b[?25hdone\n",
            "Requirement already satisfied: numpy in /usr/local/lib/python3.8/dist-packages (from tflearn) (1.21.6)\n",
            "Requirement already satisfied: six in /usr/local/lib/python3.8/dist-packages (from tflearn) (1.15.0)\n",
            "Requirement already satisfied: Pillow in /usr/local/lib/python3.8/dist-packages (from tflearn) (7.1.2)\n",
            "Building wheels for collected packages: tflearn\n",
            "  Building wheel for tflearn (setup.py) ... \u001b[?25l\u001b[?25hdone\n",
            "  Created wheel for tflearn: filename=tflearn-0.5.0-py3-none-any.whl size=127299 sha256=f8169dd0682933728e041efc7d3b29851bed8b1a6f1abce02744c78e990fa723\n",
            "  Stored in directory: /root/.cache/pip/wheels/65/9b/15/cb1e6b279c14ed897530d15cfd7da8e3df8a947e593f5cfe59\n",
            "Successfully built tflearn\n",
            "Installing collected packages: tflearn\n",
            "Successfully installed tflearn-0.5.0\n"
          ]
        }
      ]
    },
    {
      "cell_type": "code",
      "source": [
        "# Get Data\n",
        "import tflearn.datasets.oxflower17 as oxflower17\n",
        "x, y = oxflower17.load_data(one_hot=True)"
      ],
      "metadata": {
        "id": "jRLR0695Vp73",
        "colab": {
          "base_uri": "https://localhost:8080/"
        },
        "outputId": "fafe3c28-8f34-4059-dbd8-18acfbdccc62"
      },
      "execution_count": 5,
      "outputs": [
        {
          "output_type": "stream",
          "name": "stderr",
          "text": [
            "WARNING:tensorflow:From /usr/local/lib/python3.8/dist-packages/tensorflow/python/compat/v2_compat.py:107: disable_resource_variables (from tensorflow.python.ops.variable_scope) is deprecated and will be removed in a future version.\n",
            "Instructions for updating:\n",
            "non-resource variables are not supported in the long term\n",
            "  0.4%   221184 / 60270631"
          ]
        },
        {
          "output_type": "stream",
          "name": "stdout",
          "text": [
            "Downloading Oxford 17 category Flower Dataset, Please wait...\n"
          ]
        },
        {
          "output_type": "stream",
          "name": "stderr",
          "text": [
            "100.0% 60276736 / 60270631\n"
          ]
        },
        {
          "output_type": "stream",
          "name": "stdout",
          "text": [
            "Succesfully downloaded 17flowers.tgz 60270631 bytes.\n",
            "File Extracted\n",
            "Starting to parse images...\n",
            "Parsing Done!\n"
          ]
        }
      ]
    },
    {
      "cell_type": "code",
      "source": [
        "x"
      ],
      "metadata": {
        "colab": {
          "base_uri": "https://localhost:8080/"
        },
        "id": "Y6V2K6bxVxNS",
        "outputId": "d3ecc9a8-4226-49b0-b65b-889199abd317"
      },
      "execution_count": 6,
      "outputs": [
        {
          "output_type": "execute_result",
          "data": {
            "text/plain": [
              "array([[[[0.0627451 , 0.17254902, 0.02352941],\n",
              "         [0.07058824, 0.18039216, 0.03137255],\n",
              "         [0.05882353, 0.1764706 , 0.02745098],\n",
              "         ...,\n",
              "         [0.23529412, 0.20784314, 0.03137255],\n",
              "         [0.23137255, 0.25882354, 0.02745098],\n",
              "         [0.22745098, 0.28627452, 0.02745098]],\n",
              "\n",
              "        [[0.06666667, 0.1764706 , 0.01960784],\n",
              "         [0.07058824, 0.18431373, 0.02745098],\n",
              "         [0.05882353, 0.18431373, 0.02745098],\n",
              "         ...,\n",
              "         [0.21176471, 0.18039216, 0.03137255],\n",
              "         [0.20392157, 0.21960784, 0.01960784],\n",
              "         [0.20392157, 0.2509804 , 0.01568628]],\n",
              "\n",
              "        [[0.06666667, 0.18039216, 0.01960784],\n",
              "         [0.07450981, 0.1882353 , 0.03137255],\n",
              "         [0.06666667, 0.1882353 , 0.02745098],\n",
              "         ...,\n",
              "         [0.18039216, 0.14901961, 0.03921569],\n",
              "         [0.1764706 , 0.1764706 , 0.02352941],\n",
              "         [0.18039216, 0.20392157, 0.01960784]],\n",
              "\n",
              "        ...,\n",
              "\n",
              "        [[0.21176471, 0.3647059 , 0.16862746],\n",
              "         [0.21176471, 0.36078432, 0.16862746],\n",
              "         [0.20392157, 0.3529412 , 0.16078432],\n",
              "         ...,\n",
              "         [0.        , 0.01960784, 0.        ],\n",
              "         [0.01176471, 0.03529412, 0.00784314],\n",
              "         [0.02352941, 0.05882353, 0.01960784]],\n",
              "\n",
              "        [[0.21568628, 0.3529412 , 0.16470589],\n",
              "         [0.21568628, 0.3529412 , 0.16470589],\n",
              "         [0.2       , 0.34117648, 0.15294118],\n",
              "         ...,\n",
              "         [0.        , 0.01568628, 0.        ],\n",
              "         [0.01176471, 0.03529412, 0.00784314],\n",
              "         [0.03137255, 0.06666667, 0.02745098]],\n",
              "\n",
              "        [[0.21960784, 0.34901962, 0.16470589],\n",
              "         [0.21176471, 0.34901962, 0.16078432],\n",
              "         [0.2       , 0.34117648, 0.15294118],\n",
              "         ...,\n",
              "         [0.        , 0.01568628, 0.        ],\n",
              "         [0.01176471, 0.03529412, 0.00784314],\n",
              "         [0.03529412, 0.07450981, 0.03137255]]],\n",
              "\n",
              "\n",
              "       [[[0.39607844, 0.41960785, 0.27058825],\n",
              "         [0.4       , 0.42352942, 0.27450982],\n",
              "         [0.40392157, 0.42745098, 0.2784314 ],\n",
              "         ...,\n",
              "         [0.2784314 , 0.38039216, 0.19215687],\n",
              "         [0.27058825, 0.37254903, 0.1882353 ],\n",
              "         [0.26666668, 0.36862746, 0.18431373]],\n",
              "\n",
              "        [[0.39215687, 0.41568628, 0.27058825],\n",
              "         [0.39607844, 0.41960785, 0.27450982],\n",
              "         [0.4       , 0.42352942, 0.2784314 ],\n",
              "         ...,\n",
              "         [0.2784314 , 0.38039216, 0.19215687],\n",
              "         [0.27058825, 0.37254903, 0.1882353 ],\n",
              "         [0.27058825, 0.37254903, 0.1882353 ]],\n",
              "\n",
              "        [[0.39215687, 0.41568628, 0.2627451 ],\n",
              "         [0.39607844, 0.41960785, 0.26666668],\n",
              "         [0.39607844, 0.42352942, 0.27058825],\n",
              "         ...,\n",
              "         [0.2784314 , 0.38039216, 0.19215687],\n",
              "         [0.27058825, 0.37254903, 0.1882353 ],\n",
              "         [0.27450982, 0.3764706 , 0.19215687]],\n",
              "\n",
              "        ...,\n",
              "\n",
              "        [[0.3137255 , 0.31764707, 0.19215687],\n",
              "         [0.3137255 , 0.31764707, 0.19215687],\n",
              "         [0.3137255 , 0.31764707, 0.2       ],\n",
              "         ...,\n",
              "         [0.19215687, 0.21960784, 0.04705882],\n",
              "         [0.18431373, 0.21176471, 0.03921569],\n",
              "         [0.1882353 , 0.21568628, 0.04313726]],\n",
              "\n",
              "        [[0.32941177, 0.3137255 , 0.1882353 ],\n",
              "         [0.3254902 , 0.31764707, 0.1882353 ],\n",
              "         [0.3254902 , 0.32156864, 0.19215687],\n",
              "         ...,\n",
              "         [0.18431373, 0.21176471, 0.04705882],\n",
              "         [0.18039216, 0.20784314, 0.04313726],\n",
              "         [0.1882353 , 0.21568628, 0.05098039]],\n",
              "\n",
              "        [[0.33333334, 0.3137255 , 0.1882353 ],\n",
              "         [0.32941177, 0.31764707, 0.1882353 ],\n",
              "         [0.32941177, 0.32156864, 0.1882353 ],\n",
              "         ...,\n",
              "         [0.18431373, 0.21176471, 0.04705882],\n",
              "         [0.18039216, 0.20784314, 0.04313726],\n",
              "         [0.1882353 , 0.21568628, 0.05098039]]],\n",
              "\n",
              "\n",
              "       [[[0.18431373, 0.17254902, 0.25490198],\n",
              "         [0.18431373, 0.17254902, 0.25490198],\n",
              "         [0.18431373, 0.17254902, 0.25490198],\n",
              "         ...,\n",
              "         [0.15686275, 0.16078432, 0.24313726],\n",
              "         [0.15686275, 0.16078432, 0.24313726],\n",
              "         [0.15686275, 0.16078432, 0.24313726]],\n",
              "\n",
              "        [[0.18431373, 0.17254902, 0.25490198],\n",
              "         [0.18431373, 0.17254902, 0.25490198],\n",
              "         [0.18431373, 0.17254902, 0.25490198],\n",
              "         ...,\n",
              "         [0.15686275, 0.16078432, 0.24313726],\n",
              "         [0.15686275, 0.16078432, 0.24313726],\n",
              "         [0.15686275, 0.16078432, 0.24313726]],\n",
              "\n",
              "        [[0.18431373, 0.17254902, 0.25490198],\n",
              "         [0.18431373, 0.17254902, 0.25490198],\n",
              "         [0.18431373, 0.17254902, 0.25490198],\n",
              "         ...,\n",
              "         [0.15686275, 0.16078432, 0.24313726],\n",
              "         [0.15686275, 0.16078432, 0.24313726],\n",
              "         [0.15686275, 0.16078432, 0.24313726]],\n",
              "\n",
              "        ...,\n",
              "\n",
              "        [[0.19215687, 0.2627451 , 0.20392157],\n",
              "         [0.1882353 , 0.2627451 , 0.21176471],\n",
              "         [0.18431373, 0.2627451 , 0.21568628],\n",
              "         ...,\n",
              "         [0.13333334, 0.18431373, 0.19215687],\n",
              "         [0.11372549, 0.15686275, 0.19607843],\n",
              "         [0.11764706, 0.15294118, 0.19607843]],\n",
              "\n",
              "        [[0.16078432, 0.22745098, 0.1764706 ],\n",
              "         [0.15294118, 0.22352941, 0.18039216],\n",
              "         [0.16862746, 0.22352941, 0.18431373],\n",
              "         ...,\n",
              "         [0.12156863, 0.18039216, 0.19215687],\n",
              "         [0.12941177, 0.14117648, 0.18431373],\n",
              "         [0.13333334, 0.13725491, 0.1764706 ]],\n",
              "\n",
              "        [[0.13725491, 0.20392157, 0.16078432],\n",
              "         [0.13725491, 0.19607843, 0.15686275],\n",
              "         [0.14901961, 0.2       , 0.16470589],\n",
              "         ...,\n",
              "         [0.10980392, 0.17254902, 0.1882353 ],\n",
              "         [0.13725491, 0.14509805, 0.1882353 ],\n",
              "         [0.15294118, 0.14509805, 0.18431373]]],\n",
              "\n",
              "\n",
              "       ...,\n",
              "\n",
              "\n",
              "       [[[0.19607843, 0.2       , 0.1764706 ],\n",
              "         [0.1882353 , 0.19215687, 0.16862746],\n",
              "         [0.18039216, 0.18431373, 0.15686275],\n",
              "         ...,\n",
              "         [0.3529412 , 0.34901962, 0.2784314 ],\n",
              "         [0.41960785, 0.41960785, 0.32941177],\n",
              "         [0.46666667, 0.46666667, 0.37254903]],\n",
              "\n",
              "        [[0.19607843, 0.2       , 0.1764706 ],\n",
              "         [0.18431373, 0.1882353 , 0.16470589],\n",
              "         [0.17254902, 0.1764706 , 0.14901961],\n",
              "         ...,\n",
              "         [0.43137255, 0.42745098, 0.34901962],\n",
              "         [0.49411765, 0.49411765, 0.4       ],\n",
              "         [0.5254902 , 0.5294118 , 0.43137255]],\n",
              "\n",
              "        [[0.19607843, 0.2       , 0.1764706 ],\n",
              "         [0.18039216, 0.18431373, 0.16078432],\n",
              "         [0.16862746, 0.17254902, 0.14509805],\n",
              "         ...,\n",
              "         [0.5294118 , 0.52156866, 0.44705883],\n",
              "         [0.5686275 , 0.5647059 , 0.46666667],\n",
              "         [0.6117647 , 0.6117647 , 0.5058824 ]],\n",
              "\n",
              "        ...,\n",
              "\n",
              "        [[0.52156866, 0.43529412, 0.38431373],\n",
              "         [0.4862745 , 0.4       , 0.34509805],\n",
              "         [0.45490196, 0.36862746, 0.31764707],\n",
              "         ...,\n",
              "         [0.10588235, 0.11372549, 0.09019608],\n",
              "         [0.11372549, 0.12156863, 0.10196079],\n",
              "         [0.15294118, 0.16078432, 0.14117648]],\n",
              "\n",
              "        [[0.4862745 , 0.4       , 0.34901962],\n",
              "         [0.4627451 , 0.3764706 , 0.3254902 ],\n",
              "         [0.43137255, 0.34509805, 0.29411766],\n",
              "         ...,\n",
              "         [0.12156863, 0.12156863, 0.09803922],\n",
              "         [0.12156863, 0.12941177, 0.10980392],\n",
              "         [0.14509805, 0.15294118, 0.13333334]],\n",
              "\n",
              "        [[0.4627451 , 0.3764706 , 0.3254902 ],\n",
              "         [0.4392157 , 0.3529412 , 0.3019608 ],\n",
              "         [0.41568628, 0.32941177, 0.2784314 ],\n",
              "         ...,\n",
              "         [0.12156863, 0.1254902 , 0.10196079],\n",
              "         [0.12941177, 0.13725491, 0.11372549],\n",
              "         [0.13725491, 0.14509805, 0.12941177]]],\n",
              "\n",
              "\n",
              "       [[[0.20392157, 0.28627452, 0.36862746],\n",
              "         [0.21176471, 0.2901961 , 0.38431373],\n",
              "         [0.2       , 0.27450982, 0.38431373],\n",
              "         ...,\n",
              "         [0.14509805, 0.25882354, 0.61960787],\n",
              "         [0.15294118, 0.26666668, 0.627451  ],\n",
              "         [0.14117648, 0.25490198, 0.6156863 ]],\n",
              "\n",
              "        [[0.22352941, 0.30588236, 0.3882353 ],\n",
              "         [0.23529412, 0.3137255 , 0.40784314],\n",
              "         [0.22352941, 0.3019608 , 0.4117647 ],\n",
              "         ...,\n",
              "         [0.16078432, 0.27450982, 0.6313726 ],\n",
              "         [0.17254902, 0.28627452, 0.64705884],\n",
              "         [0.15686275, 0.27058825, 0.6313726 ]],\n",
              "\n",
              "        [[0.21960784, 0.3019608 , 0.38431373],\n",
              "         [0.23529412, 0.3137255 , 0.40392157],\n",
              "         [0.22745098, 0.30588236, 0.4117647 ],\n",
              "         ...,\n",
              "         [0.16078432, 0.27450982, 0.63529414],\n",
              "         [0.16862746, 0.28235295, 0.6431373 ],\n",
              "         [0.15686275, 0.27058825, 0.6313726 ]],\n",
              "\n",
              "        ...,\n",
              "\n",
              "        [[0.2784314 , 0.34901962, 0.44313726],\n",
              "         [0.30588236, 0.3764706 , 0.47058824],\n",
              "         [0.3372549 , 0.40784314, 0.5019608 ],\n",
              "         ...,\n",
              "         [0.30588236, 0.3882353 , 0.6784314 ],\n",
              "         [0.3019608 , 0.39215687, 0.6666667 ],\n",
              "         [0.28627452, 0.3764706 , 0.6431373 ]],\n",
              "\n",
              "        [[0.2784314 , 0.34117648, 0.43137255],\n",
              "         [0.29411766, 0.36078432, 0.45882353],\n",
              "         [0.29803923, 0.36862746, 0.46666667],\n",
              "         ...,\n",
              "         [0.30588236, 0.3882353 , 0.6784314 ],\n",
              "         [0.30588236, 0.39607844, 0.67058825],\n",
              "         [0.29411766, 0.38431373, 0.6509804 ]],\n",
              "\n",
              "        [[0.27058825, 0.32941177, 0.42352942],\n",
              "         [0.2784314 , 0.34509805, 0.44313726],\n",
              "         [0.26666668, 0.34117648, 0.4392157 ],\n",
              "         ...,\n",
              "         [0.29803923, 0.38431373, 0.67058825],\n",
              "         [0.3019608 , 0.39215687, 0.6666667 ],\n",
              "         [0.2901961 , 0.38039216, 0.64705884]]],\n",
              "\n",
              "\n",
              "       [[[0.9607843 , 0.972549  , 0.96862745],\n",
              "         [0.72156864, 0.6862745 , 0.6862745 ],\n",
              "         [0.61960787, 0.6       , 0.5803922 ],\n",
              "         ...,\n",
              "         [0.18039216, 0.18431373, 0.1882353 ],\n",
              "         [0.17254902, 0.18039216, 0.1882353 ],\n",
              "         [0.15294118, 0.16862746, 0.18039216]],\n",
              "\n",
              "        [[0.8784314 , 0.9019608 , 0.90588236],\n",
              "         [0.64705884, 0.6392157 , 0.6431373 ],\n",
              "         [0.47843137, 0.48235294, 0.47058824],\n",
              "         ...,\n",
              "         [0.18039216, 0.18431373, 0.19215687],\n",
              "         [0.14901961, 0.15294118, 0.16470589],\n",
              "         [0.13725491, 0.15294118, 0.16470589]],\n",
              "\n",
              "        [[0.5921569 , 0.6156863 , 0.6313726 ],\n",
              "         [0.52156866, 0.5568628 , 0.5647059 ],\n",
              "         [0.40392157, 0.44313726, 0.44705883],\n",
              "         ...,\n",
              "         [0.14901961, 0.15686275, 0.16862746],\n",
              "         [0.15294118, 0.16862746, 0.18039216],\n",
              "         [0.13333334, 0.14901961, 0.16470589]],\n",
              "\n",
              "        ...,\n",
              "\n",
              "        [[0.37254903, 0.25490198, 0.3019608 ],\n",
              "         [0.4117647 , 0.3019608 , 0.3372549 ],\n",
              "         [0.3529412 , 0.25490198, 0.28235295],\n",
              "         ...,\n",
              "         [0.30980393, 0.3529412 , 0.4627451 ],\n",
              "         [0.41568628, 0.46666667, 0.5647059 ],\n",
              "         [0.44313726, 0.49803922, 0.5882353 ]],\n",
              "\n",
              "        [[0.3372549 , 0.22352941, 0.23921569],\n",
              "         [0.35686275, 0.2509804 , 0.26666668],\n",
              "         [0.37254903, 0.27058825, 0.2901961 ],\n",
              "         ...,\n",
              "         [0.4392157 , 0.49019608, 0.5647059 ],\n",
              "         [0.47843137, 0.5294118 , 0.6039216 ],\n",
              "         [0.52156866, 0.57254905, 0.64705884]],\n",
              "\n",
              "        [[0.3137255 , 0.19607843, 0.20392157],\n",
              "         [0.33333334, 0.22745098, 0.23921569],\n",
              "         [0.4862745 , 0.38431373, 0.4       ],\n",
              "         ...,\n",
              "         [0.40392157, 0.45882353, 0.5176471 ],\n",
              "         [0.44313726, 0.49411765, 0.5568628 ],\n",
              "         [0.4745098 , 0.5254902 , 0.5921569 ]]]], dtype=float32)"
            ]
          },
          "metadata": {},
          "execution_count": 6
        }
      ]
    },
    {
      "cell_type": "code",
      "source": [
        "y"
      ],
      "metadata": {
        "colab": {
          "base_uri": "https://localhost:8080/"
        },
        "id": "uJC5Z9vqWZZq",
        "outputId": "cdaff3c8-3778-4d2c-bfe6-e51c3b1f5314"
      },
      "execution_count": 7,
      "outputs": [
        {
          "output_type": "execute_result",
          "data": {
            "text/plain": [
              "array([[0., 0., 0., ..., 0., 0., 0.],\n",
              "       [0., 0., 0., ..., 0., 0., 0.],\n",
              "       [0., 0., 0., ..., 0., 1., 0.],\n",
              "       ...,\n",
              "       [0., 0., 0., ..., 0., 1., 0.],\n",
              "       [0., 0., 1., ..., 0., 0., 0.],\n",
              "       [0., 1., 0., ..., 0., 0., 0.]])"
            ]
          },
          "metadata": {},
          "execution_count": 7
        }
      ]
    },
    {
      "cell_type": "code",
      "source": [
        "x.shape"
      ],
      "metadata": {
        "colab": {
          "base_uri": "https://localhost:8080/"
        },
        "id": "vwkqlVSxWl-C",
        "outputId": "27036385-8c3e-4f4e-e726-46435d26eb71"
      },
      "execution_count": 8,
      "outputs": [
        {
          "output_type": "execute_result",
          "data": {
            "text/plain": [
              "(1360, 224, 224, 3)"
            ]
          },
          "metadata": {},
          "execution_count": 8
        }
      ]
    },
    {
      "cell_type": "code",
      "source": [
        "y.shape"
      ],
      "metadata": {
        "colab": {
          "base_uri": "https://localhost:8080/"
        },
        "id": "32UIqjxGWpUS",
        "outputId": "3f3fb04c-fdf0-4752-8dbd-afef45af5a51"
      },
      "execution_count": 9,
      "outputs": [
        {
          "output_type": "execute_result",
          "data": {
            "text/plain": [
              "(1360, 17)"
            ]
          },
          "metadata": {},
          "execution_count": 9
        }
      ]
    },
    {
      "cell_type": "code",
      "source": [
        "# Create a sequential model\n",
        "model = Sequential()\n",
        "\n",
        "# 1st Convolutional Layer\n",
        "model.add(Conv2D(filters=96, input_shape=(224,224,3), kernel_size=(11,11), strides=(4,4), padding='valid'))\n",
        "model.add(Activation('relu'))\n",
        "\n",
        "# Pooling \n",
        "model.add(MaxPooling2D(pool_size=(3,3), strides=(2,2), padding='valid'))\n",
        "# Batch Normalisation before passing it to the next layer\n",
        "model.add(BatchNormalization())\n",
        "\n",
        "# 2nd Convolutional Layer\n",
        "model.add(Conv2D(filters=256, kernel_size=(5,5), strides=(1,1), padding='same'))\n",
        "model.add(Activation('relu'))\n",
        "\n",
        "# Pooling\n",
        "model.add(MaxPooling2D(pool_size=(3,3), strides=(2,2), padding='valid'))\n",
        "# Batch Normalisation\n",
        "model.add(BatchNormalization())\n",
        "\n",
        "\n",
        "\n",
        "# 3rd Convolutional Layer\n",
        "model.add(Conv2D(filters=384, kernel_size=(3,3), strides=(1,1), padding='valid'))\n",
        "model.add(Activation('relu'))\n",
        "# Batch Normalisation\n",
        "model.add(BatchNormalization())\n",
        "\n",
        "# 4th Convolutional Layer\n",
        "model.add(Conv2D(filters=384, kernel_size=(3,3), strides=(1,1), padding='valid'))\n",
        "model.add(Activation('relu'))\n",
        "# Batch Normalisation\n",
        "model.add(BatchNormalization())\n",
        "\n",
        "\n",
        "# 5th Convolutional Layer\n",
        "model.add(Conv2D(filters=256, kernel_size=(3,3), strides=(1,1), padding='valid'))\n",
        "model.add(Activation('relu'))\n",
        "\n",
        "\n",
        "# Pooling\n",
        "model.add(MaxPooling2D(pool_size=(3,3), strides=(2,2), padding='valid'))\n",
        "# Batch Normalisation\n",
        "model.add(BatchNormalization())\n",
        "\n",
        "\n",
        "# Passing it to a dense layer\n",
        "model.add(Flatten())\n",
        "\n",
        "# 1st Dense Layer\n",
        "model.add(Dense(4096, input_shape=(224*224*3,)))\n",
        "model.add(Activation('relu'))\n",
        "# Add Dropout to prevent overfitting\n",
        "model.add(Dropout(0.4))\n",
        "# Batch Normalisation\n",
        "model.add(BatchNormalization())\n",
        "\n",
        "# 2nd Dense Layer\n",
        "model.add(Dense(4096))\n",
        "model.add(Activation('relu'))\n",
        "# Add Dropout\n",
        "model.add(Dropout(0.4))\n",
        "# Batch Normalisation\n",
        "model.add(BatchNormalization())\n",
        "\n",
        "# Output Layer\n",
        "model.add(Dense(17))\n",
        "model.add(Activation('softmax'))\n",
        "\n",
        "model.summary()"
      ],
      "metadata": {
        "colab": {
          "base_uri": "https://localhost:8080/"
        },
        "id": "-d5AsJpdWrok",
        "outputId": "1f7fa9bb-82cb-4648-dd39-eea360530498"
      },
      "execution_count": 10,
      "outputs": [
        {
          "output_type": "stream",
          "name": "stderr",
          "text": [
            "WARNING:tensorflow:From /usr/local/lib/python3.8/dist-packages/keras/layers/normalization/batch_normalization.py:514: _colocate_with (from tensorflow.python.framework.ops) is deprecated and will be removed in a future version.\n",
            "Instructions for updating:\n",
            "Colocations handled automatically by placer.\n"
          ]
        },
        {
          "output_type": "stream",
          "name": "stdout",
          "text": [
            "Model: \"sequential\"\n",
            "_________________________________________________________________\n",
            " Layer (type)                Output Shape              Param #   \n",
            "=================================================================\n",
            " conv2d (Conv2D)             (None, 54, 54, 96)        34944     \n",
            "                                                                 \n",
            " activation (Activation)     (None, 54, 54, 96)        0         \n",
            "                                                                 \n",
            " max_pooling2d (MaxPooling2D  (None, 26, 26, 96)       0         \n",
            " )                                                               \n",
            "                                                                 \n",
            " batch_normalization (BatchN  (None, 26, 26, 96)       384       \n",
            " ormalization)                                                   \n",
            "                                                                 \n",
            " conv2d_1 (Conv2D)           (None, 26, 26, 256)       614656    \n",
            "                                                                 \n",
            " activation_1 (Activation)   (None, 26, 26, 256)       0         \n",
            "                                                                 \n",
            " max_pooling2d_1 (MaxPooling  (None, 12, 12, 256)      0         \n",
            " 2D)                                                             \n",
            "                                                                 \n",
            " batch_normalization_1 (Batc  (None, 12, 12, 256)      1024      \n",
            " hNormalization)                                                 \n",
            "                                                                 \n",
            " conv2d_2 (Conv2D)           (None, 10, 10, 384)       885120    \n",
            "                                                                 \n",
            " activation_2 (Activation)   (None, 10, 10, 384)       0         \n",
            "                                                                 \n",
            " batch_normalization_2 (Batc  (None, 10, 10, 384)      1536      \n",
            " hNormalization)                                                 \n",
            "                                                                 \n",
            " conv2d_3 (Conv2D)           (None, 8, 8, 384)         1327488   \n",
            "                                                                 \n",
            " activation_3 (Activation)   (None, 8, 8, 384)         0         \n",
            "                                                                 \n",
            " batch_normalization_3 (Batc  (None, 8, 8, 384)        1536      \n",
            " hNormalization)                                                 \n",
            "                                                                 \n",
            " conv2d_4 (Conv2D)           (None, 6, 6, 256)         884992    \n",
            "                                                                 \n",
            " activation_4 (Activation)   (None, 6, 6, 256)         0         \n",
            "                                                                 \n",
            " max_pooling2d_2 (MaxPooling  (None, 2, 2, 256)        0         \n",
            " 2D)                                                             \n",
            "                                                                 \n",
            " batch_normalization_4 (Batc  (None, 2, 2, 256)        1024      \n",
            " hNormalization)                                                 \n",
            "                                                                 \n",
            " flatten (Flatten)           (None, 1024)              0         \n",
            "                                                                 \n",
            " dense (Dense)               (None, 4096)              4198400   \n",
            "                                                                 \n",
            " activation_5 (Activation)   (None, 4096)              0         \n",
            "                                                                 \n",
            " dropout (Dropout)           (None, 4096)              0         \n",
            "                                                                 \n",
            " batch_normalization_5 (Batc  (None, 4096)             16384     \n",
            " hNormalization)                                                 \n",
            "                                                                 \n",
            " dense_1 (Dense)             (None, 4096)              16781312  \n",
            "                                                                 \n",
            " activation_6 (Activation)   (None, 4096)              0         \n",
            "                                                                 \n",
            " dropout_1 (Dropout)         (None, 4096)              0         \n",
            "                                                                 \n",
            " batch_normalization_6 (Batc  (None, 4096)             16384     \n",
            " hNormalization)                                                 \n",
            "                                                                 \n",
            " dense_2 (Dense)             (None, 17)                69649     \n",
            "                                                                 \n",
            " activation_7 (Activation)   (None, 17)                0         \n",
            "                                                                 \n",
            "=================================================================\n",
            "Total params: 24,834,833\n",
            "Trainable params: 24,815,697\n",
            "Non-trainable params: 19,136\n",
            "_________________________________________________________________\n"
          ]
        }
      ]
    },
    {
      "cell_type": "code",
      "source": [
        "# Compile \n",
        "opt = tf.optimizers.Adam(learning_rate = 0.01)\n",
        "model.compile(loss='categorical_crossentropy', optimizer=opt, metrics=['accuracy'])"
      ],
      "metadata": {
        "id": "MvVOIkt3WutX"
      },
      "execution_count": 11,
      "outputs": []
    },
    {
      "cell_type": "code",
      "source": [
        "# Train\n",
        "model.fit(x, y, batch_size=64, epochs=5, verbose=1,validation_split=0.2, shuffle=True)"
      ],
      "metadata": {
        "colab": {
          "base_uri": "https://localhost:8080/"
        },
        "id": "iLw7jY9-ZjZu",
        "outputId": "2cea49ba-e700-4854-95b9-42a68281943c"
      },
      "execution_count": 12,
      "outputs": [
        {
          "output_type": "stream",
          "name": "stdout",
          "text": [
            "Train on 1088 samples, validate on 272 samples\n",
            "Epoch 1/5\n",
            "1088/1088 [==============================] - ETA: 0s - loss: 8.6341 - acc: 0.1360"
          ]
        },
        {
          "output_type": "stream",
          "name": "stderr",
          "text": [
            "/usr/local/lib/python3.8/dist-packages/keras/engine/training_v1.py:2045: UserWarning: `Model.state_updates` will be removed in a future version. This property should not be used in TensorFlow 2.0, as `updates` are applied automatically.\n",
            "  updates = self.state_updates\n"
          ]
        },
        {
          "output_type": "stream",
          "name": "stdout",
          "text": [
            "\b\b\b\b\b\b\b\b\b\b\b\b\b\b\b\b\b\b\b\b\b\b\b\b\b\b\b\b\b\b\b\b\b\b\b\b\b\b\b\b\b\b\b\b\b\b\b\b\b\b\b\b\b\b\b\b\b\b\b\b\b\b\b\b\b\b\b\b\b\b\b\b\b\b\b\b\b\b\b\b\b\r1088/1088 [==============================] - 10s 10ms/sample - loss: 8.6341 - acc: 0.1360 - val_loss: 447053.5570 - val_acc: 0.0662\n",
            "Epoch 2/5\n",
            "1088/1088 [==============================] - 2s 2ms/sample - loss: 5.8345 - acc: 0.1994 - val_loss: 10573.2896 - val_acc: 0.0662\n",
            "Epoch 3/5\n",
            "1088/1088 [==============================] - 2s 2ms/sample - loss: 4.7401 - acc: 0.2491 - val_loss: 4582.1978 - val_acc: 0.0478\n",
            "Epoch 4/5\n",
            "1088/1088 [==============================] - 2s 2ms/sample - loss: 5.0380 - acc: 0.2840 - val_loss: 1051.9289 - val_acc: 0.0625\n",
            "Epoch 5/5\n",
            "1088/1088 [==============================] - 2s 2ms/sample - loss: 4.0578 - acc: 0.3382 - val_loss: 711.5660 - val_acc: 0.0551\n"
          ]
        },
        {
          "output_type": "execute_result",
          "data": {
            "text/plain": [
              "<keras.callbacks.History at 0x7fa2195dfbb0>"
            ]
          },
          "metadata": {},
          "execution_count": 12
        }
      ]
    },
    {
      "cell_type": "code",
      "source": [],
      "metadata": {
        "id": "CG9e4STUaEQ9"
      },
      "execution_count": null,
      "outputs": []
    }
  ]
}